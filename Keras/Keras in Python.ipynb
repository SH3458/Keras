{
  "cells": [
    {
      "cell_type": "raw",
      "metadata": {},
      "source": [
        "---\n",
        "title: \"Keras in Python\"\n",
        "author: \"Shweta A M Hatote\"\n",
        "format: revealjs\n",
        "editor: source\n",
        "toc: true\n",
        "toc-depth: 1\n",
        "slide-number: true\n",
        "smaller: false\n",
        "scrollable: true \n",
        "execute:\n",
        "  echo: true\n",
        "editor_options: \n",
        "  chunk_output_type: console\n",
        "---"
      ],
      "id": "9ca0fc4b"
    },
    {
      "cell_type": "markdown",
      "metadata": {},
      "source": [
        "# Load Required Libraries\n"
      ],
      "id": "6dc6d490"
    },
    {
      "cell_type": "code",
      "metadata": {},
      "source": [
        "import numpy as np\n",
        "import pandas as pd\n",
        "from sklearn.preprocessing import MinMaxScaler\n",
        "import tensorflow as tf\n",
        "from tensorflow.keras.models import Sequential\n",
        "from tensorflow.keras.layers import Dense, SimpleRNN, LSTM\n",
        "from tensorflow.keras.optimizers import SGD, Adam\n",
        "import matplotlib.pyplot as plt"
      ],
      "id": "c0b2089e",
      "execution_count": null,
      "outputs": []
    },
    {
      "cell_type": "markdown",
      "metadata": {},
      "source": [
        "# Set random seed for reproducibility\n"
      ],
      "id": "44937c41"
    },
    {
      "cell_type": "code",
      "metadata": {},
      "source": [
        "np.random.seed(0)\n",
        "tf.random.set_seed(0)"
      ],
      "id": "e46c4746",
      "execution_count": null,
      "outputs": []
    },
    {
      "cell_type": "markdown",
      "metadata": {},
      "source": [
        "# Load dataset\n"
      ],
      "id": "7fc8d94e"
    },
    {
      "cell_type": "code",
      "metadata": {},
      "source": [
        "file_path = \"C:\\\\Study\\\\Time Series\\\\HW\\\\HW4\\\\ICSA.csv\"\n",
        "dataframe = pd.read_csv(file_path)\n",
        "data = dataframe['ICSA'].values.astype(float)"
      ],
      "id": "7bc5fb88",
      "execution_count": null,
      "outputs": []
    },
    {
      "cell_type": "markdown",
      "metadata": {},
      "source": [
        "- Normalize the dataset\n"
      ],
      "id": "bcdbd2fc"
    },
    {
      "cell_type": "code",
      "metadata": {},
      "source": [
        "scaler = MinMaxScaler(feature_range=(0, 1))\n",
        "data = scaler.fit_transform(data.reshape(-1, 1))"
      ],
      "id": "88dfb673",
      "execution_count": null,
      "outputs": []
    },
    {
      "cell_type": "markdown",
      "metadata": {},
      "source": [
        "# Convert an array of values into a dataset matrix\n"
      ],
      "id": "75a650ca"
    },
    {
      "cell_type": "code",
      "metadata": {},
      "source": [
        "def create_dataset(dataset, look_back=53):\n",
        "    dataX, dataY = [], []\n",
        "    for i in range(len(dataset)-look_back-1):\n",
        "        a = dataset[i:(i+look_back), 0]\n",
        "        dataX.append(a)\n",
        "        dataY.append(dataset[i + look_back, 0])\n",
        "    return np.array(dataX), np.array(dataY)"
      ],
      "id": "d4a3f34c",
      "execution_count": null,
      "outputs": []
    },
    {
      "cell_type": "markdown",
      "metadata": {},
      "source": [
        "# Prepare the data\n"
      ],
      "id": "da29d088"
    },
    {
      "cell_type": "code",
      "metadata": {},
      "source": [
        "look_back = 53\n",
        "dataX, dataY = create_dataset(data, look_back)"
      ],
      "id": "b37dd425",
      "execution_count": null,
      "outputs": []
    },
    {
      "cell_type": "markdown",
      "metadata": {},
      "source": [
        "- Reshape input to be [samples, time steps, features]\n"
      ],
      "id": "d76c9994"
    },
    {
      "cell_type": "code",
      "metadata": {},
      "source": [
        "dataX = np.reshape(dataX, (dataX.shape[0], dataX.shape[1], 1))"
      ],
      "id": "ce8719de",
      "execution_count": null,
      "outputs": []
    },
    {
      "cell_type": "markdown",
      "metadata": {},
      "source": [
        "# Create and fit the LSTM network\n"
      ],
      "id": "ce07355e"
    },
    {
      "cell_type": "code",
      "metadata": {},
      "source": [
        "model = Sequential()\n",
        "model.add(LSTM(4, input_shape=(look_back, 1)))\n",
        "model.add(Dense(1))\n",
        "model.compile(loss='mean_squared_error', optimizer='adam')\n",
        "model.fit(dataX, dataY, epochs=5, batch_size=1, verbose=0)"
      ],
      "id": "da48a40e",
      "execution_count": null,
      "outputs": []
    },
    {
      "cell_type": "markdown",
      "metadata": {},
      "source": [
        "# Make predictions & Invert them to get the original value\n"
      ],
      "id": "0c518f78"
    },
    {
      "cell_type": "code",
      "metadata": {},
      "source": [
        "dataPredict = model.predict(dataX, verbose=0)\n",
        "\n",
        "dataPredict = scaler.inverse_transform(dataPredict)\n",
        "dataY_original = scaler.inverse_transform([dataY])"
      ],
      "id": "e8bf21c7",
      "execution_count": null,
      "outputs": []
    },
    {
      "cell_type": "markdown",
      "metadata": {},
      "source": [
        "- Calculate root mean squared error\n"
      ],
      "id": "a7b090b1"
    },
    {
      "cell_type": "code",
      "metadata": {},
      "source": [
        "score = np.sqrt(np.mean((dataPredict[:,0] - dataY_original[0])**2))\n",
        "print(f'Score: {score:.2f} RMSE')"
      ],
      "id": "d2ea4717",
      "execution_count": null,
      "outputs": []
    },
    {
      "cell_type": "markdown",
      "metadata": {},
      "source": [
        "# Plot baseline and predictions\n",
        "\n",
        "##\n"
      ],
      "id": "4280abd4"
    },
    {
      "cell_type": "code",
      "metadata": {},
      "source": [
        "plt.figure(figsize=(10,6))\n",
        "plt.plot(scaler.inverse_transform(data))\n",
        "plt.plot(np.arange(look_back, len(dataPredict)+look_back), dataPredict.flatten(), label='Prediction')\n",
        "plt.title(\"Initial Claims\")\n",
        "plt.ylabel(\"Value\")\n",
        "plt.xlabel(\"Years\")\n",
        "plt.legend()\n",
        "plt.show()"
      ],
      "id": "90a20fdd",
      "execution_count": null,
      "outputs": []
    },
    {
      "cell_type": "markdown",
      "metadata": {},
      "source": [
        "# Forecast the next value\n"
      ],
      "id": "b86b025d"
    },
    {
      "cell_type": "code",
      "metadata": {},
      "source": [
        "next_input = data[-look_back:].reshape(1, look_back, 1)\n",
        "next_prediction = model.predict(next_input, verbose=0)\n",
        "next_prediction_inverted = scaler.inverse_transform(next_prediction)\n",
        "print(f'Forecast for next time step: {next_prediction_inverted[0][0]:.2f}')"
      ],
      "id": "db97ceca",
      "execution_count": null,
      "outputs": []
    }
  ],
  "metadata": {
    "kernelspec": {
      "name": "python3",
      "language": "python",
      "display_name": "Python 3 (ipykernel)"
    }
  },
  "nbformat": 4,
  "nbformat_minor": 5
}